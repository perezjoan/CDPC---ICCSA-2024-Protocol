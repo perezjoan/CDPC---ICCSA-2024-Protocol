{
 "cells": [
  {
   "cell_type": "code",
   "execution_count": 51,
   "id": "fb1b9236-97c1-49b6-a001-b25918c8c0a9",
   "metadata": {},
   "outputs": [],
   "source": [
    "import geopandas as gpd\n",
    "gpkg = \"C:\\\\Users\\\\jperez\\\\Documents\\\\Current 1\\\\emc2\\\\Output\\\\output.gpkg\"\n",
    "gdf_line = gpd.read_file(gpkg, layer=\"drap_noZ\")\n",
    "gdf_point_1 = gpd.read_file(gpkg, layer=\"points_d25_off_10\")\n",
    "gdf_point_2 = gpd.read_file(gpkg, layer=\"points_d25_off_10\")\n",
    "\n",
    "gdf_point_1.geometry = gdf_point_1.geometry.apply(lambda geom: Point(geom.x - 0.1, geom.y))\n",
    "gdf_point_2.geometry = gdf_point_2.geometry.apply(lambda geom: Point(geom.x + 0.1, geom.y))\n",
    "\n",
    "gdf_point_1.to_file(gpkg, layer=\"points_d25_off_10_bis\", driver=\"GPKG\")\n",
    "gdf_point_2.to_file(gpkg, layer=\"points_d25_off_10_ter\", driver=\"GPKG\")"
   ]
  },
  {
   "cell_type": "code",
   "execution_count": 52,
   "id": "a5a988ff-a6e7-466d-b93e-60e644232f08",
   "metadata": {},
   "outputs": [],
   "source": [
    "gdf_point_1.geometry = gdf_point_1.geometry.apply(lambda geom: Point(geom.x - 0.1, geom.y))\n",
    "gdf_point_2.geometry = gdf_point_2.geometry.apply(lambda geom: Point(geom.x + 0.1, geom.y))"
   ]
  },
  {
   "cell_type": "code",
   "execution_count": 53,
   "id": "b86fce28-652c-4d37-91a4-934ddcf32f7c",
   "metadata": {},
   "outputs": [],
   "source": [
    "gdf_point_1.to_file(gpkg, layer=\"points_d25_off_10_bis\", driver=\"GPKG\")\n",
    "gdf_point_2.to_file(gpkg, layer=\"points_d25_off_10_ter\", driver=\"GPKG\")"
   ]
  }
 ],
 "metadata": {
  "kernelspec": {
   "display_name": "Python 3 (ipykernel)",
   "language": "python",
   "name": "python3"
  },
  "language_info": {
   "codemirror_mode": {
    "name": "ipython",
    "version": 3
   },
   "file_extension": ".py",
   "mimetype": "text/x-python",
   "name": "python",
   "nbconvert_exporter": "python",
   "pygments_lexer": "ipython3",
   "version": "3.11.5"
  }
 },
 "nbformat": 4,
 "nbformat_minor": 5
}
