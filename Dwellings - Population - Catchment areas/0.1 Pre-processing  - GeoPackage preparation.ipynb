{
 "cells": [
  {
   "cell_type": "code",
   "execution_count": 46,
   "id": "a3b7ce5a-8536-4093-866f-e641c4c1148d",
   "metadata": {},
   "outputs": [],
   "source": [
    "# EMC2 WP 2 Processing 0.1\n",
    "# GeoPackage : Department and subset (commune) preparation\n",
    "# BD_TOPO (Building, roads, administrative limits and activity areas),\n",
    "# Filosofi (population)\n",
    "# Author : Perez Joan\n",
    "\n",
    "# Download : last version of BD_TOPO for a given French department (BD TOPO® décembre 2023 Tous Thèmes par département format GeoPackage projection légale)\n",
    "# Webpage : https://geoservices.ign.fr/bdtopo#telechargementgpkgreg\n",
    "# Chosen department : Alpes maritimes (06)\n",
    "# https://data.geopf.fr/telechargement/download/BDTOPO/BDTOPO_3-3_TOUSTHEMES_GPKG_LAMB93_D006_2023-12-15/BDTOPO_3-3_TOUSTHEMES_GPKG_LAMB93_D006_2023-12-15.7z\n",
    "\n",
    "# Download : last version of Filosofi (2019)\n",
    "# https://www.insee.fr/fr/statistiques/7655475?sommaire=7655515"
   ]
  },
  {
   "cell_type": "code",
   "execution_count": 47,
   "id": "32a58317-fd16-484e-ade9-5b897cfce9b4",
   "metadata": {},
   "outputs": [],
   "source": [
    "# 0.1 Packages, local filepaths & parameters\n",
    "import os\n",
    "import pandas\n",
    "import geopandas\n",
    "import time\n",
    "import contextily\n",
    "import matplotlib.pyplot as plt\n",
    "\n",
    "# Set filepaths to downloaded data\n",
    "BD_TOPO = \"C:\\\\Users\\\\jperez\\\\Documents\\\\Current 1\\\\emc2\\\\Raw data\\\\BDTOPO 3-3\\\\1_DONNEES_LIVRAISON_2023-12-00191\\\\BDT_3-3_GPKG_LAMB93_D006-ED2023-12-15\\\\BDT_3-3_GPKG_LAMB93_D006-ED2023-12-15.gpkg\"\n",
    "Filosofi = \"C:\\\\Users\\\\jperez\\\\Documents\\\\Current 1\\\\emc2\\\\Raw data\\\\Filosofi 2019\\\\carreaux_200m_met.shp\"\n",
    "\n",
    "# Specify the file path to record the main gpkg file & the subset\n",
    "main_gpkg = \"C:\\\\Users\\\\jperez\\\\Documents\\\\Current 1\\\\emc2\\\\Output\\\\WP2_DPC_0.1.gpkg\"\n",
    "subset_gpkg = \"C:\\\\Users\\\\jperez\\\\Documents\\\\Current 1\\\\emc2\\\\Output\\\\WP2_DPC_0.1_Subset.gpkg\"\n",
    "\n",
    "# Name of the commune for the subset (example : Drap)\n",
    "subset = \"Drap\""
   ]
  },
  {
   "cell_type": "code",
   "execution_count": 48,
   "id": "665daa18-ea91-427c-83ff-cabfb1c497f6",
   "metadata": {},
   "outputs": [
    {
     "name": "stdout",
     "output_type": "stream",
     "text": [
      "Import processing time: 54.316184997558594 seconds\n"
     ]
    }
   ],
   "source": [
    "## 1. load raw data\n",
    "\n",
    "# Read the administrative boundaries\n",
    "start_time = time.time()\n",
    "administrative = geopandas.read_file(BD_TOPO, layer=\"commune\", engine='pyogrio', use_arrow=True)\n",
    "# Read roads\n",
    "road = geopandas.read_file(BD_TOPO, layer=\"troncon_de_route\", engine='pyogrio', use_arrow=True)\n",
    "# Read buildings\n",
    "building = geopandas.read_file(BD_TOPO, layer=\"batiment\", engine='pyogrio', use_arrow=True)\n",
    "# Read activity areas\n",
    "activity_area = geopandas.read_file(BD_TOPO, layer=\"zone_d_activite_ou_d_interet\", engine='pyogrio', use_arrow=True)\n",
    "# Read population\n",
    "population = geopandas.read_file(Filosofi, engine='pyogrio', use_arrow=True)\n",
    "end_time = time.time()\n",
    "processing_time = end_time - start_time\n",
    "print(\"Import processing time:\", processing_time, \"seconds\")"
   ]
  },
  {
   "cell_type": "code",
   "execution_count": 49,
   "id": "a3b9f9fe-f41c-4197-bc2f-48c62fed2c0a",
   "metadata": {},
   "outputs": [],
   "source": [
    "## 2. Subset & clean data\n",
    "\n",
    "# Keep population squares for given department only\n",
    "dpt_population = geopandas.sjoin(population, administrative, predicate='within')\n",
    "dpt_population = dpt_population.iloc[:, list(range(35))]\n",
    "\n",
    "# Remove variables with wrong format in BD_TOPO datasets (compatibility issues with geopandas\n",
    "administrative_clean = administrative.iloc[:, list(range(8)) + list(range(12, 19)) + list(range(20, 26))]\n",
    "building_clean = building.iloc[:, list(range(6)) + list(range(10, 28))]\n",
    "road_clean = road.iloc[:, list(range(8)) + list(range(12, 44)) + list(range(45, 85))]\n",
    "activity_area_clean = activity_area.iloc[:, list(range(9)) + list(range(13, 20))]"
   ]
  },
  {
   "cell_type": "code",
   "execution_count": 50,
   "id": "743f10c8-f9a7-4e52-bbea-43638c989f6b",
   "metadata": {},
   "outputs": [],
   "source": [
    "## 3. Create a subset for a given commune\n",
    "administrative_clean_subset = administrative_clean[administrative_clean[\"nom_officiel\"] == subset]\n",
    "dpt_population_subset = geopandas.sjoin(dpt_population, administrative_clean_subset[['geometry']], predicate='intersects')\n",
    "building_clean_subset = geopandas.sjoin(building_clean, administrative_clean_subset[['geometry']], predicate='intersects')\n",
    "road_clean_subset = geopandas.sjoin(road_clean, administrative_clean_subset[['geometry']], predicate='intersects')\n",
    "activity_area_clean_subset = geopandas.sjoin(activity_area_clean, administrative_clean_subset[['geometry']], predicate='intersects')"
   ]
  },
  {
   "cell_type": "code",
   "execution_count": null,
   "id": "7101341f-a802-4dbc-9df3-39140e6a686f",
   "metadata": {},
   "outputs": [],
   "source": [
    "## 4. Create GPKG for downloaded department & subset\n",
    "\n",
    "# Save main gpkg\n",
    "# Save the GeoDataFrames to a gpkg file\n",
    "dpt_population.to_file(main_gpkg, layer = \"population\", driver=\"GPKG\")\n",
    "building_clean.to_file(main_gpkg, layer = \"building\", driver=\"GPKG\")\n",
    "road_clean.to_file(main_gpkg, layer = \"road\", driver=\"GPKG\")\n",
    "administrative_clean.to_file(main_gpkg, layer = \"administrative\", driver=\"GPKG\")\n",
    "activity_area_clean.to_file(main_gpkg, layer = \"activity_areas\", driver=\"GPKG\")\n",
    "\n",
    "# Save subset\n",
    "# Save the GeoDataFrames to a GeoPackage file\n",
    "dpt_population_subset.to_file(subset_gpkg, layer = \"population\", driver=\"GPKG\")\n",
    "building_clean_subset.to_file(subset_gpkg, layer = \"building\", driver=\"GPKG\")\n",
    "road_clean_subset.to_file(subset_gpkg, layer = \"road\", driver=\"GPKG\")\n",
    "administrative_clean_subset.to_file(subset_gpkg, layer = \"administrative\", driver=\"GPKG\")\n",
    "activity_area_clean_subset.to_file(subset_gpkg, layer = \"activity_areas\", driver=\"GPKG\")"
   ]
  },
  {
   "cell_type": "code",
   "execution_count": null,
   "id": "6b46ce09-86ac-4fb8-968a-cf69d0ad37e5",
   "metadata": {},
   "outputs": [],
   "source": [
    "# Appendixes A1 : check : population filter (Filosofi) on given department\n",
    "ax = dpt_population.plot(figsize=(9, 9))\n",
    "# Add basemap\n",
    "contextily.add_basemap(ax, crs=dpt_population.crs, source=contextily.providers.CartoDB.Voyager)\n",
    "# Manually create legend handles and labels\n",
    "legend_handles = [plt.Rectangle((0, 0), 1, 1, color='lightblue')]\n",
    "legend_labels = [\"Population data available\"]\n",
    "# Add custom legend\n",
    "ax.legend(legend_handles, legend_labels)\n",
    "plt.show()"
   ]
  },
  {
   "cell_type": "code",
   "execution_count": null,
   "id": "292bd8af-9070-4d40-a3b8-f3f41efceb19",
   "metadata": {},
   "outputs": [],
   "source": [
    "# Appendixes A2 : check column names & indexes before/after removal of columns\n",
    "before = road # layer name\n",
    "for index, column_name in enumerate(before.columns):\n",
    "    print(f\"Column {index}: {column_name}\")\n",
    "after = road_clean # layer name\n",
    "for index, column_name in enumerate(after.columns):\n",
    "    print(f\"Column {index}: {column_name}\")"
   ]
  },
  {
   "cell_type": "code",
   "execution_count": null,
   "id": "e444526c-771a-4dad-a4e4-678f4791184b",
   "metadata": {},
   "outputs": [],
   "source": [
    "# Appendixes A3 : Map of subset\n",
    "# Create custom legend handles\n",
    "legend_handles = [\n",
    "    plt.Rectangle((0, 0), 1, 1, color='black', lw=2, label='Buildings'),  # For buildings\n",
    "    plt.Line2D([0], [0], color='lightblue', lw=2, label='Roads'), # For roads\n",
    "    plt.Rectangle((0, 0), 1, 1, color='red', ec='none', label='Activity Areas'),  # For activity areas\n",
    "    plt.Rectangle((0, 0), 1, 1, fc='orange', ec='none', label='Population data', alpha=0.3)  # For population\n",
    "]\n",
    "# Create a plot with building_clean\n",
    "ax = building_clean_subset.plot(color='black')\n",
    "# Plot road_clean on the same map\n",
    "road_clean_subset.plot(ax=ax, linewidth=0.5)\n",
    "# Plot activity areas on the same map\n",
    "activity_area_clean_subset.plot(ax=ax, color='red')\n",
    "# Plot population on the same map\n",
    "ax = dpt_population_subset.plot(ax=ax, alpha=0.3, color='orange')\n",
    "# Add title & legend\n",
    "plt.title(subset)\n",
    "ax.legend(handles=legend_handles)\n",
    "# Add basemap\n",
    "contextily.add_basemap(ax, crs=dpt_population_subset.crs, source=contextily.providers.CartoDB.Voyager)"
   ]
  }
 ],
 "metadata": {
  "kernelspec": {
   "display_name": "Python 3 (ipykernel)",
   "language": "python",
   "name": "python3"
  },
  "language_info": {
   "codemirror_mode": {
    "name": "ipython",
    "version": 3
   },
   "file_extension": ".py",
   "mimetype": "text/x-python",
   "name": "python",
   "nbconvert_exporter": "python",
   "pygments_lexer": "ipython3",
   "version": "3.11.5"
  }
 },
 "nbformat": 4,
 "nbformat_minor": 5
}
