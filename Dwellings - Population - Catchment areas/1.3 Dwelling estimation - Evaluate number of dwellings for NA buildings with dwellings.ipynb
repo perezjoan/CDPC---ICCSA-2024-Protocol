{
 "cells": [
  {
   "cell_type": "code",
   "execution_count": null,
   "id": "0d5f929f-2d71-437a-a138-f82f761e518f",
   "metadata": {},
   "outputs": [],
   "source": [
    "# EMC2 WP 2 Processing 1.3\n",
    "# Evaluate number of dwellings for NA buildings with dwellings\n",
    "# Author : Perez Joan\n",
    "\n",
    "# Prerequisites : output from 1.1 and 1.2"
   ]
  },
  {
   "cell_type": "code",
   "execution_count": null,
   "id": "f9d863c8-1e12-4674-bb60-2dc10c8dae11",
   "metadata": {},
   "outputs": [],
   "source": [
    "# 0.1 Packages, local filepaths & parameters\n",
    "import contextily\n",
    "import matplotlib.pyplot as plt\n",
    "# Assuming 'building' is a GeoDataFrame\n",
    "buildings_with_null = building[building['nombre_de_logements'].isnull()]\n",
    "buildings_with_values = building[building['nombre_de_logements'].notnull()]\n",
    "# Plot removed buildings in red\n",
    "ax = buildings_with_null.plot(color = \"red\")\n",
    "# Plot kept buildings in green\n",
    "buildings_with_values.plot(ax=ax, color = \"green\")\n",
    "plt.title(str(len(buildings_with_values)) + \" Attribute data (green) vs. \" + str(len(buildings_with_null)) + \" NULL (red)\")"
   ]
  },
  {
   "cell_type": "code",
   "execution_count": null,
   "id": "77e3bb61-00fc-4067-996e-e42ac87f851e",
   "metadata": {},
   "outputs": [],
   "source": [
    "# 1 Give values based on a model\n",
    " ## Regression + predict\n",
    " ## Random forest\n",
    " ## PCA + estimate\n",
    " ## Advanced : GEOCLUST? GWR?"
   ]
  }
 ],
 "metadata": {
  "kernelspec": {
   "display_name": "Python 3 (ipykernel)",
   "language": "python",
   "name": "python3"
  },
  "language_info": {
   "codemirror_mode": {
    "name": "ipython",
    "version": 3
   },
   "file_extension": ".py",
   "mimetype": "text/x-python",
   "name": "python",
   "nbconvert_exporter": "python",
   "pygments_lexer": "ipython3",
   "version": "3.11.5"
  }
 },
 "nbformat": 4,
 "nbformat_minor": 5
}
