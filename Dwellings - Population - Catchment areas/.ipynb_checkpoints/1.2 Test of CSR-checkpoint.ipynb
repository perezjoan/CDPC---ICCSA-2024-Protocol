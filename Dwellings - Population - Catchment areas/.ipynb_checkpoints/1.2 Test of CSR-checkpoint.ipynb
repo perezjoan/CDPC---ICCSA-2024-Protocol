{
 "cells": [
  {
   "cell_type": "code",
   "execution_count": 46,
   "id": "97c46b49-0639-413e-a295-5d97ed436ffa",
   "metadata": {},
   "outputs": [],
   "source": [
    "import geopandas as gpd\n",
    "import numpy as np\n",
    "import matplotlib.pyplot as plt\n",
    "from scipy.spatial import distance\n",
    "\n",
    "# Specify the location of output from 1.1\n",
    "gpkg = \"C:\\\\Users\\\\jperez\\\\Documents\\\\Current 1\\\\emc2\\\\Output\\\\WP2_DPC_1.1.gpkg\"\n",
    "\n",
    "# Read the data\n",
    "building = gpd.read_file(gpkg, layer=\"Buildings_with_morphology_indicators\")"
   ]
  },
  {
   "cell_type": "code",
   "execution_count": 59,
   "id": "9c002d02-cbff-4a60-ba8f-3fa8f8b3eb81",
   "metadata": {},
   "outputs": [
    {
     "data": {
      "text/plain": [
       "array([[1049995.76809295, 6305528.69967569],\n",
       "       [1050185.04793981, 6305436.65539255],\n",
       "       [1050086.55895248, 6305673.02385764],\n",
       "       ...,\n",
       "       [1049277.66724371, 6305103.02343155],\n",
       "       [1049017.31270117, 6304661.63835423],\n",
       "       [1050197.0905028 , 6305468.7816279 ]])"
      ]
     },
     "execution_count": 59,
     "metadata": {},
     "output_type": "execute_result"
    }
   ],
   "source": [
    "observed_points = building.centroid\n",
    "building_geom = gpd.GeoDataFrame(geometry=points)\n",
    "coordinates = np.array([[building.coords[0][0], building.coords[0][1]] for building in building_geom.geometry])\n",
    "coordinates"
   ]
  },
  {
   "cell_type": "code",
   "execution_count": 60,
   "id": "5eef32ee-59d5-43d9-9efc-99140ecb04cd",
   "metadata": {},
   "outputs": [],
   "source": [
    "min_x, min_y, max_x, max_y = observed_points.total_bounds\n",
    "random_points_x = np.random.uniform(min_x, max_x, 2603)\n",
    "random_points_y = np.random.uniform(min_y, max_y, 2603)\n",
    "random_points_geom = gpd.GeoDataFrame(geometry=gpd.points_from_xy(random_points_x, random_points_y))\n",
    "coordinates_random = np.array([[point.x, point.y] for point in random_points_geom.geometry])"
   ]
  },
  {
   "cell_type": "code",
   "execution_count": 61,
   "id": "7d966e6d-92c7-4c27-948e-74a7a61bb1f5",
   "metadata": {},
   "outputs": [
    {
     "data": {
      "text/plain": [
       "array([[1050207.03782526, 6304579.35528328],\n",
       "       [1050108.39802918, 6305263.17271356],\n",
       "       [1048813.69573106, 6306057.34431647],\n",
       "       ...,\n",
       "       [1049677.71146893, 6304896.77353221],\n",
       "       [1048738.47426215, 6305164.93771113],\n",
       "       [1049772.18998227, 6306339.94070628]])"
      ]
     },
     "execution_count": 61,
     "metadata": {},
     "output_type": "execute_result"
    }
   ],
   "source": [
    "coordinates_random"
   ]
  },
  {
   "cell_type": "code",
   "execution_count": 43,
   "id": "dfe5b61f-8d56-46e5-868e-82aeace83f2e",
   "metadata": {},
   "outputs": [
    {
     "data": {
      "image/png": "[encoded data removed]",
      "text/plain": [
       "<Figure size 1000x600 with 1 Axes>"
      ]
     },
     "metadata": {},
     "output_type": "display_data"
    },
    {
     "name": "stdout",
     "output_type": "stream",
     "text": [
      "Mean nearest neighbor distance (observed): 12.866262874695426\n",
      "Mean nearest neighbor distance (random CSR): 0.08083635538183859\n",
      "The observed point pattern is dispersed.\n"
     ]
    }
   ],
   "source": [
    "# Generate observed point pattern (replace this with your actual point data)\n",
    "np.random.seed(123)  # for reproducibility\n",
    "\n",
    "# Calculate nearest neighbor distances for observed point pattern\n",
    "observed_nn_distances = nearest_neighbor_distances(coordinates)\n",
    "\n",
    "# Generate random point pattern under CSR (uniform distribution)\n",
    "random_points = np.random.rand(50, 2)  # Generate 50 random points in a 2D space\n",
    "\n",
    "# Calculate nearest neighbor distances for random point pattern\n",
    "random_nn_distances = nearest_neighbor_distances(random_points)\n",
    "\n",
    "# Plot histograms of nearest neighbor distances\n",
    "plt.figure(figsize=(10, 6))\n",
    "plt.hist(observed_nn_distances, bins=20, color='blue', alpha=0.5, label='Observed')\n",
    "plt.hist(random_nn_distances, bins=20, color='red', alpha=0.5, label='Random CSR')\n",
    "plt.xlabel('Nearest Neighbor Distance')\n",
    "plt.ylabel('Frequency')\n",
    "plt.title('Nearest Neighbor Distance Distribution')\n",
    "plt.legend()\n",
    "plt.show()\n",
    "\n",
    "# Compare mean nearest neighbor distances\n",
    "mean_observed_nn = np.mean(observed_nn_distances)\n",
    "mean_random_nn = np.mean(random_nn_distances)\n",
    "\n",
    "print(\"Mean nearest neighbor distance (observed):\", mean_observed_nn)\n",
    "print(\"Mean nearest neighbor distance (random CSR):\", mean_random_nn)\n",
    "\n",
    "# Assess clustering or dispersion\n",
    "if mean_observed_nn < mean_random_nn:\n",
    "    print(\"The observed point pattern is clustered.\")\n",
    "elif mean_observed_nn > mean_random_nn:\n",
    "    print(\"The observed point pattern is dispersed.\")\n",
    "else:\n",
    "    print(\"The observed point pattern is consistent with CSR.\")"
   ]
  },
  {
   "cell_type": "code",
   "execution_count": 30,
   "id": "7020622a-4bfb-4a43-8cf1-743735a20f4a",
   "metadata": {},
   "outputs": [],
   "source": [
    "observed_points = building.centroid"
   ]
  },
  {
   "cell_type": "code",
   "execution_count": 41,
   "id": "58630950-2314-4efd-a83b-3b5c8b8c394f",
   "metadata": {},
   "outputs": [],
   "source": [
    "coordinates = np.array([[point.coords[0][0], point.coords[0][1]] for point in observed_points.geometry])"
   ]
  },
  {
   "cell_type": "code",
   "execution_count": 42,
   "id": "922f60b8-f2a3-4688-a66a-1eeb950f9be0",
   "metadata": {},
   "outputs": [
    {
     "data": {
      "text/plain": [
       "array([[1049995.76809295, 6305528.69967569],\n",
       "       [1050185.04793981, 6305436.65539255],\n",
       "       [1050086.55895248, 6305673.02385764],\n",
       "       ...,\n",
       "       [1049277.66724371, 6305103.02343155],\n",
       "       [1049017.31270117, 6304661.63835423],\n",
       "       [1050197.0905028 , 6305468.7816279 ]])"
      ]
     },
     "execution_count": 42,
     "metadata": {},
     "output_type": "execute_result"
    }
   ],
   "source": [
    "coordinates"
   ]
  },
  {
   "cell_type": "code",
   "execution_count": 44,
   "id": "f54cbd98-2079-44ac-8591-485efe1b10ee",
   "metadata": {},
   "outputs": [
    {
     "data": {
      "text/plain": [
       "0        68.453768\n",
       "1       205.581988\n",
       "2        47.968012\n",
       "3        48.221919\n",
       "4        40.672198\n",
       "           ...    \n",
       "2598     21.229541\n",
       "2599     39.488452\n",
       "2600     23.707551\n",
       "2601     51.516050\n",
       "2602     89.591243\n",
       "Length: 2603, dtype: float64"
      ]
     },
     "execution_count": 44,
     "metadata": {},
     "output_type": "execute_result"
    }
   ],
   "source": [
    "building.length"
   ]
  },
  {
   "cell_type": "code",
   "execution_count": null,
   "id": "2e9b6f80-4358-4229-a056-8d22ec17924c",
   "metadata": {},
   "outputs": [],
   "source": []
  }
 ],
 "metadata": {
  "kernelspec": {
   "display_name": "Python 3 (ipykernel)",
   "language": "python",
   "name": "python3"
  },
  "language_info": {
   "codemirror_mode": {
    "name": "ipython",
    "version": 3
   },
   "file_extension": ".py",
   "mimetype": "text/x-python",
   "name": "python",
   "nbconvert_exporter": "python",
   "pygments_lexer": "ipython3",
   "version": "3.11.5"
  }
 },
 "nbformat": 4,
 "nbformat_minor": 5
}
