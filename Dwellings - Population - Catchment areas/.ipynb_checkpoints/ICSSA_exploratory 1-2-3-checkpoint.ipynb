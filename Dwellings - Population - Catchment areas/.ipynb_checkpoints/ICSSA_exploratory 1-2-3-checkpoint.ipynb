{
 "cells": [
  {
   "cell_type": "code",
   "execution_count": null,
   "id": "88da960b-80a3-4cb0-ac8e-0ee66232995a",
   "metadata": {},
   "outputs": [],
   "source": [
    "# EMC2 WP 2 Exploratory/Shortened protocole for ICCSA 2024\n",
    "# GeoPackage : Department preparation & subset selection (on a single commune) from main GeoPackage\n",
    "# BD_TOPO (Building, roads, administrative limits and activity areas),\n",
    "# Filosofi (population)\n",
    "# Author : Perez Joan\n",
    "\n",
    "# Download : last version of BD_TOPO for a given French department (BD TOPO® décembre 2023 Tous Thèmes par département format GeoPackage projection légale)\n",
    "# Webpage : https://geoservices.ign.fr/bdtopo#telechargementgpkgreg\n",
    "# Example of chosen department : Alpes maritimes (06)\n",
    "# https://data.geopf.fr/telechargement/download/BDTOPO/BDTOPO_3-3_TOUSTHEMES_GPKG_LAMB93_D006_2023-12-15/BDTOPO_3-3_TOUSTHEMES_GPKG_LAMB93_D006_2023-12-15.7z\n",
    "\n",
    "# Download : last version of Filosofi (2019)\n",
    "# https://www.insee.fr/fr/statistiques/7655475?sommaire=7655515"
   ]
  },
  {
   "cell_type": "code",
   "execution_count": null,
   "id": "981ddf8e-4e25-4830-8e5e-2489e8e71c83",
   "metadata": {},
   "outputs": [],
   "source": [
    "# Load data"
   ]
  },
  {
   "cell_type": "code",
   "execution_count": null,
   "id": "71de4129-fda4-43f6-8a61-af88bdfc1aef",
   "metadata": {},
   "outputs": [],
   "source": [
    "# 2  Basic new indicators : Surface, Compacity, Elongation, Product [1-E].C.S, Product [1-E].S\n",
    "\n",
    "# ID\n",
    "building[\"ID\"] = range(len(building))\n",
    "\n",
    "# Surface\n",
    "building['area'] = building.geometry.area\n",
    "\n",
    "# Calculating perimeter\n",
    "building['perimeter'] = building.geometry.length\n",
    "\n",
    "# Calculating elongation\n",
    "building['elongation'] = momepy.Elongation(building).series\n",
    "\n",
    "# Convexity\n",
    "building['convexity'] = momepy.Convexity(building).series\n",
    "\n",
    "# Floor area\n",
    "building['FA'] = building['nombre_d_etages'] * building['area']\n",
    "\n",
    "# Product [1-E].C.S\n",
    "building['ECS'] = (1 - building['elongation']) * building['area'] * building['convexity']\n",
    "\n",
    "# [1-E].S\n",
    "building['ES'] = (1 - building['elongation']) * building['area']\n",
    "\n",
    "# Shared walls\n",
    "building[\"SW\"] = momepy.SharedWallsRatio(building).series"
   ]
  }
 ],
 "metadata": {
  "kernelspec": {
   "display_name": "Python 3 (ipykernel)",
   "language": "python",
   "name": "python3"
  },
  "language_info": {
   "codemirror_mode": {
    "name": "ipython",
    "version": 3
   },
   "file_extension": ".py",
   "mimetype": "text/x-python",
   "name": "python",
   "nbconvert_exporter": "python",
   "pygments_lexer": "ipython3",
   "version": "3.11.5"
  }
 },
 "nbformat": 4,
 "nbformat_minor": 5
}
