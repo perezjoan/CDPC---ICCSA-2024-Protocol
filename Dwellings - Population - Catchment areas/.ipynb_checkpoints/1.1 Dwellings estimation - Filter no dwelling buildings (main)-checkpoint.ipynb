{
 "cells": [
  {
   "cell_type": "code",
   "execution_count": 97,
   "id": "59a82729-3d62-4ac3-a5bc-b1501a07c47f",
   "metadata": {},
   "outputs": [],
   "source": [
    "# EMC2 WP 2 Processing 1.0  \n",
    "# Filter on buildings with no dwellings  \n",
    "# Author : Perez Joan"
   ]
  },
  {
   "cell_type": "code",
   "execution_count": null,
   "id": "f1d62e6b-9565-4549-933d-83b955e93d0f",
   "metadata": {},
   "outputs": [],
   "source": [
    "# 0.1 Packages, local filepaths & parameters\n",
    "import geopandas as gpd\n",
    "from shutil import copy\n",
    "\n",
    "# In the folder used to record the main gpkg file & subset from 0.1 :\n",
    "# Duplicate output from 0.1 to save results in 1.1 (subset)\n",
    "copy(\"C:\\\\Users\\\\jperez\\\\Documents\\\\Current 1\\\\emc2\\\\Output\\\\WP2_DPC_0.1.gpkg\", \n",
    "    \"C:\\\\Users\\\\jperez\\\\Documents\\\\Current 1\\\\emc2\\\\Output\\\\WP2_DPC_1.1.gpkg\")\n",
    "\n",
    "# Specify the file path to record the results\n",
    "gpkg = \"C:\\\\Users\\\\jperez\\\\Documents\\\\Current 1\\\\emc2\\\\Output\\\\WP2_DPC_1.1.gpkg\"\n",
    "\n",
    "# Read the data\n",
    "building = gpd.read_file(gpkg, layer=\"building\")\n",
    "activity_areas = gpd.read_file(gpkg, layer=\"activity_areas\")"
   ]
  },
  {
   "cell_type": "code",
   "execution_count": null,
   "id": "79b00c1e-4d93-45fb-a041-4082d722a743",
   "metadata": {},
   "outputs": [],
   "source": [
    "# 1. Spatial join of categories of activity areas to buildings\n",
    "building = building.rename(columns={'index_right': 'index_rgt'})\n",
    "activity_areas = activity_areas.rename(columns={'index_right': 'index_rgt'})\n",
    "building = gpd.sjoin(building, activity_areas[['categorie', 'geometry']], how='left', predicate='intersects')                                "
   ]
  },
  {
   "cell_type": "code",
   "execution_count": null,
   "id": "cc3a4029-d9bb-4899-a264-d3a44e411782",
   "metadata": {},
   "outputs": [],
   "source": [
    "# 2. Indexes to remove\n",
    "# light buildings\n",
    "indexes_1 = building[(building[\"construction_legere\"] == True) & (building[\"nombre_de_logements\"].isnull())].index\n",
    "# Building with no dwelling\n",
    "indexes_2 = building[building[\"nombre_de_logements\"] == 0].index\n",
    "# Specialized buildings\n",
    "indexes_3 = building[(building[\"nature\"] != \"Indifférenciée\") & (building[\"nombre_de_logements\"].isnull())].index\n",
    "# Building under construction (not in service)\n",
    "indexes_4 = building[building[\"etat_de_l_objet\"] != \"En service\"].index\n",
    "# Annex buildings (official definition : Petit bâtiment à vocation d'annexe au sens fiscal : garage externe, abri...)\n",
    "indexes_5 = building[(building[\"usage_1\"] == \"Annexe\") & (building[\"nombre_de_logements\"].isnull())].index\n",
    "# Buildings with less the 10 m² of footprint \n",
    "indexes_6 = building[building.geometry.area < 10].index\n",
    "# Large buildings within specialized areas with NULL values of dwellings\n",
    "indexes_7 = building[(building.geometry.area > 150) & (building[\"nombre_de_logements\"].isnull()) & (~building[\"categorie\"].isnull())].index"
   ]
  },
  {
   "cell_type": "code",
   "execution_count": null,
   "id": "cd7b22c3-c70e-44ca-8dc8-dfb0fe467f88",
   "metadata": {},
   "outputs": [],
   "source": [
    "# 3. merge indexes, remove duplicates & perform the filter\n",
    "merged_idx = indexes_1.union(indexes_2).union(indexes_3).union(indexes_4).union(indexes_5).union(indexes_6).union(indexes_7)\n",
    "filtered_building = building.drop(merged_idx)"
   ]
  },
  {
   "cell_type": "code",
   "execution_count": null,
   "id": "e2534f55-845a-43d6-aab8-7c2661321ba8",
   "metadata": {},
   "outputs": [],
   "source": [
    "# 4. Write a layer of buildings with dwellings (NA included) in output file\n",
    "filtered_building.to_file(gpkg, layer=\"Buildings_with_dwellings_NA_included\", driver=\"GPKG\")"
   ]
  },
  {
   "cell_type": "code",
   "execution_count": null,
   "id": "ea330fc3-544f-4b73-bc2f-351a8b52ff91",
   "metadata": {},
   "outputs": [],
   "source": [
    "# Appendixes A1\n",
    "import contextily\n",
    "import folium\n",
    "from folium.plugins import MarkerCluster\n",
    "from ipyleaflet import Map, GeoData, basemaps, LayersControl\n",
    "\n",
    "# Plot removed buildings in red\n",
    "ax = building.plot(figsize=(10, 10), color='red')\n",
    "# Plot kept buildings in green\n",
    "filtered_building.plot(ax=ax, color='green')\n",
    "# Add basemap\n",
    "contextily.add_basemap(ax, crs=filtered_building.crs, source=contextily.providers.CartoDB.Voyager)"
   ]
  },
  {
   "cell_type": "code",
   "execution_count": null,
   "id": "eae67576-49d0-4786-814f-f3f8ffd27add",
   "metadata": {
    "scrolled": true
   },
   "outputs": [],
   "source": [
    "# Appendixes A2\n",
    "# Removed and kept buildings - Mapview\n",
    "from ipyleaflet import Map, GeoData, basemaps, LayersControl, Polygon\n",
    "map = folium.Map(location=[43.7544, 7.3208], tiles=\"OpenStreetMap\", zoom_start=14.5)\n",
    "folium.GeoJson(building, color = \"red\").add_to(map)\n",
    "folium.GeoJson(filtered_building, color = \"green\").add_to(map)\n",
    "map"
   ]
  }
 ],
 "metadata": {
  "kernelspec": {
   "display_name": "Python 3 (ipykernel)",
   "language": "python",
   "name": "python3"
  },
  "language_info": {
   "codemirror_mode": {
    "name": "ipython",
    "version": 3
   },
   "file_extension": ".py",
   "mimetype": "text/x-python",
   "name": "python",
   "nbconvert_exporter": "python",
   "pygments_lexer": "ipython3",
   "version": "3.11.5"
  }
 },
 "nbformat": 4,
 "nbformat_minor": 5
}
