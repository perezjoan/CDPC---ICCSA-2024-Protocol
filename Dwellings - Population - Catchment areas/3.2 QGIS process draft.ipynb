{
 "cells": [
  {
   "cell_type": "code",
   "execution_count": 1,
   "id": "ef4af61b-2a78-4bf6-834a-a0d07387564a",
   "metadata": {},
   "outputs": [],
   "source": [
    "from qgis.core import QgsApplication, QgsProcessingFeedback\n",
    "from qgis.analysis import QgsNativeAlgorithms\n",
    "import processing\n",
    "import sys\n",
    "import geopandas as gpd\n",
    "from shapely.geometry import Point\n",
    "from shapely import wkb\n",
    "\n",
    "# Initialize QGIS Application\n",
    "qgis_path = \"C:/Program Files/QGIS 3.x/apps/qgis\"\n",
    "sys.path.append(qgis_path)\n",
    "QgsApplication.setPrefixPath(qgis_path, True)\n",
    "qgs = QgsApplication([], False)\n",
    "qgs.initQgis()\n",
    "\n",
    "# Add processing algorithms to registry\n",
    "from processing.core.Processing import Processing\n",
    "Processing.initialize()\n",
    "\n",
    "# Define the GeoPackage path\n",
    "gpkg = \"C:\\\\Users\\\\jperez\\\\Documents\\\\Current 1\\\\emc2\\\\Output\\\\output.gpkg\"\n",
    "\n",
    "# Remove third dimension\n",
    "gdf_lines = gpd.read_file(gpkg, layer=\"drap\")\n",
    "_drop_z = lambda geom: wkb.loads(wkb.dumps(geom, output_dimension=2))\n",
    "gdf_lines.geometry = gdf_lines.geometry.transform(_drop_z)\n",
    "gdf_lines.to_file(gpkg, layer=\"drap_noZ\", driver=\"GPKG\")"
   ]
  },
  {
   "cell_type": "code",
   "execution_count": 2,
   "id": "3d4a25e5-4ab7-4bb1-ace3-55e396ff5419",
   "metadata": {},
   "outputs": [
    {
     "data": {
      "text/plain": [
       "{'OUTPUT': 'C:\\\\Users\\\\jperez\\\\Documents\\\\Current 1\\\\emc2\\\\Output\\\\output.gpkg|layername=points_d25_off_10'}"
      ]
     },
     "execution_count": 2,
     "metadata": {},
     "output_type": "execute_result"
    }
   ],
   "source": [
    "# Define the paths for inputs and outputs\n",
    "input_layer = \"drap_noZ\"\n",
    "output_layer = \"points_d25_off_10\"\n",
    "\n",
    "# Run Points along lines : every 25 meters, offset of 10 meters\n",
    "processing.run(\"native:pointsalonglines\", {\n",
    "    'INPUT': f\"{gpkg}|layername={input_layer}\",\n",
    "    'DISTANCE': 25,\n",
    "    'START_OFFSET': 10,\n",
    "    'END_OFFSET': 10,\n",
    "    'OUTPUT': f'ogr:dbname=\\'{gpkg}\\' table=\"{output_layer}\" (geom)'})"
   ]
  },
  {
   "cell_type": "code",
   "execution_count": 3,
   "id": "91c1accf-d6b4-4d27-89f1-65dddd0716fc",
   "metadata": {},
   "outputs": [],
   "source": [
    "gdf_line = gpd.read_file(gpkg, layer=\"drap_noZ\")\n",
    "gdf_point_1 = gpd.read_file(gpkg, layer=\"points_d25_off_10\")\n",
    "gdf_point_2 = gpd.read_file(gpkg, layer=\"points_d25_off_10\")\n",
    "\n",
    "gdf_point_1.geometry = gdf_point_1.geometry.apply(lambda geom: Point(geom.x - 0.1, geom.y))\n",
    "gdf_point_2.geometry = gdf_point_2.geometry.apply(lambda geom: Point(geom.x + 0.1, geom.y))\n",
    "\n",
    "gdf_point_1.to_file(gpkg, layer=\"temp1\", driver=\"GPKG\")\n",
    "gdf_point_2.to_file(gpkg, layer=\"temp2\", driver=\"GPKG\")"
   ]
  },
  {
   "cell_type": "code",
   "execution_count": 4,
   "id": "f73afb7a-7189-490e-89de-e3f37edfca7a",
   "metadata": {},
   "outputs": [
    {
     "data": {
      "text/plain": [
       "{'OUTPUT': 'C:\\\\Users\\\\jperez\\\\Documents\\\\Current 1\\\\emc2\\\\Output\\\\output.gpkg|layername=temp_lines'}"
      ]
     },
     "execution_count": 4,
     "metadata": {},
     "output_type": "execute_result"
    }
   ],
   "source": [
    "output_layer = \"temp_lines\"\n",
    "temp1 = \"temp1\"\n",
    "temp2 = \"temp2\"\n",
    "\n",
    "# Create temporary lines from points\n",
    "processing.run(\"native:hublines\", \n",
    "               {'HUBS':f\"{gpkg}|layername={temp1}\",\n",
    "                'HUB_FIELD':'fid',\n",
    "                'HUB_FIELDS':[],\n",
    "                'SPOKES':f\"{gpkg}|layername={temp2}\",\n",
    "                'SPOKE_FIELD':'fid',\n",
    "                'SPOKE_FIELDS':[],\n",
    "                'GEODESIC':False,\n",
    "                'GEODESIC_DISTANCE':1000,\n",
    "                'ANTIMERIDIAN_SPLIT':False,\n",
    "                'OUTPUT':f'ogr:dbname=\\'{gpkg}\\' table=\"{output_layer}\" (geom)'})"
   ]
  },
  {
   "cell_type": "code",
   "execution_count": 5,
   "id": "e38c062f-bc2d-4c01-8078-cfb42a57aa30",
   "metadata": {},
   "outputs": [
    {
     "data": {
      "text/plain": [
       "{'OUTPUT': 'C:\\\\Users\\\\jperez\\\\Documents\\\\Current 1\\\\emc2\\\\Output\\\\output.gpkg|layername=splited_lines'}"
      ]
     },
     "execution_count": 5,
     "metadata": {},
     "output_type": "execute_result"
    }
   ],
   "source": [
    "# Split lines\n",
    "splited_layer = \"splited_lines\"\n",
    "processing.run(\"native:splitwithlines\",\n",
    "               {'INPUT':f\"{gpkg}|layername={input_layer}\",\n",
    "                'LINES':f\"{gpkg}|layername={output_layer}\",\n",
    "                'OUTPUT':f'ogr:dbname=\\'{gpkg}\\' table=\"{splited_layer}\" (geom)'})"
   ]
  }
 ],
 "metadata": {
  "kernelspec": {
   "display_name": "Python 3 (ipykernel)",
   "language": "python",
   "name": "python3"
  },
  "language_info": {
   "codemirror_mode": {
    "name": "ipython",
    "version": 3
   },
   "file_extension": ".py",
   "mimetype": "text/x-python",
   "name": "python",
   "nbconvert_exporter": "python",
   "pygments_lexer": "ipython3",
   "version": "3.12.3"
  }
 },
 "nbformat": 4,
 "nbformat_minor": 5
}
