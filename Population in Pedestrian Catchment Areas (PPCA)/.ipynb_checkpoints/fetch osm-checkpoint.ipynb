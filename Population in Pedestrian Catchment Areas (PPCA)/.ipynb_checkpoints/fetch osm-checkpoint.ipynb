{
 "cells": [
  {
   "cell_type": "code",
   "execution_count": null,
   "id": "47639f17-9d3b-407a-bda6-696f94786d4c",
   "metadata": {},
   "outputs": [],
   "source": [
    "# Environnement : ox"
   ]
  },
  {
   "cell_type": "code",
   "execution_count": null,
   "id": "3b1caacd-7b13-4d68-9adf-d48c8188111d",
   "metadata": {},
   "outputs": [],
   "source": [
    "import osmnx as ox\n",
    "import geopandas as gpd\n",
    "from shapely.geometry import Polygon\n",
    "\n",
    "lat_point_list = [43.761945, 43.761945, 43.742005, 43.742005]\n",
    "lon_point_list = [7.310597, 7.346383, 7.346383, 7.310597]\n",
    "\n",
    "polygon_geom = Polygon(zip(lon_point_list, lat_point_list))\n",
    "polygon = gpd.GeoDataFrame(index=[0], crs='epsg:4326', geometry=[polygon_geom])"
   ]
  },
  {
   "cell_type": "code",
   "execution_count": null,
   "id": "17aa344e-a319-40e4-9515-31452fff57ad",
   "metadata": {},
   "outputs": [],
   "source": [
    "buildings = ox.geometries.geometries_from_polygon(polygon['geometry'][0], tags = {'building': True})"
   ]
  }
 ],
 "metadata": {
  "kernelspec": {
   "display_name": "Python 3 (ipykernel)",
   "language": "python",
   "name": "python3"
  },
  "language_info": {
   "codemirror_mode": {
    "name": "ipython",
    "version": 3
   },
   "file_extension": ".py",
   "mimetype": "text/x-python",
   "name": "python",
   "nbconvert_exporter": "python",
   "pygments_lexer": "ipython3",
   "version": "3.12.3"
  }
 },
 "nbformat": 4,
 "nbformat_minor": 5
}
