{
 "cells": [
  {
   "cell_type": "code",
   "execution_count": null,
   "id": "efb0ad5e-ef0a-464d-8eba-744dd7e603c7",
   "metadata": {},
   "outputs": [],
   "source": [
    "# Environnement : PPCA"
   ]
  },
  {
   "cell_type": "code",
   "execution_count": null,
   "id": "6e504315-6b51-4b19-a257-879308212598",
   "metadata": {},
   "outputs": [],
   "source": [
    "import ee\n",
    "import geemap"
   ]
  },
  {
   "cell_type": "code",
   "execution_count": null,
   "id": "6db31bc6-4f46-4382-b257-2f95f680c658",
   "metadata": {},
   "outputs": [],
   "source": [
    "ee.Authenticate()"
   ]
  },
  {
   "cell_type": "code",
   "execution_count": null,
   "id": "39ab6207-ca3d-4f32-80a2-5305f2770070",
   "metadata": {},
   "outputs": [],
   "source": [
    "ee.Initialize(project='ee-joanperezetu')"
   ]
  },
  {
   "cell_type": "code",
   "execution_count": null,
   "id": "e9766138-7868-41eb-aada-3fdcac806f98",
   "metadata": {},
   "outputs": [],
   "source": [
    "# single image (doesn't work)\n",
    "ghs2010 = ee.Image('JRC/GHSL/P2023A/GHS_POP/2010')\n",
    "\n",
    "geom = ee.Geometry.Polygon(\n",
    "        [\n",
    "            [\n",
    "                [7.310597, 43.761945],\n",
    "                [7.346383, 43.761945],\n",
    "                [7.346383, 43.742005],\n",
    "                [7.310597, 43.742005],\n",
    "            ]\n",
    "        ]\n",
    "    )\n",
    "feature = ee.Feature(geom, {})\n",
    "roi = feature.geometry()\n",
    "\n",
    "import os\n",
    "out_dir = os.path.join(os.path.expanduser(\"~\"), \"Downloads\")\n",
    "filename = os.path.join(out_dir, \"ghs2010.tif\")\n",
    "\n",
    "#ghs = ghs.clip(roi).unmask()\n",
    "geemap.ee_export_image(\n",
    "    ghs2010, filename=filename, scale=90, region=roi, file_per_band=True\n",
    ")"
   ]
  },
  {
   "cell_type": "code",
   "execution_count": null,
   "id": "2e7a49ce-7218-4267-8a06-07e359be904c",
   "metadata": {},
   "outputs": [],
   "source": [
    "# From image collection (doesn't work)\n",
    "loc = ee.Geometry.Point(7.310597, 43.761945)\n",
    "collection = (\n",
    "    ee.ImageCollection(\"JRC/GHSL/P2023A/GHS_POP\")\n",
    "    .filterBounds(loc)\n",
    "    .filterDate(\"2009-01-01\", \"2011-01-01\")\n",
    ")\n",
    "out_dir = os.path.join(os.path.expanduser(\"~\"), \"Downloads\")\n",
    "print(collection.aggregate_array(\"system:index\").getInfo())\n",
    "geemap.ee_export_image_collection(collection, out_dir=out_dir)"
   ]
  },
  {
   "cell_type": "code",
   "execution_count": null,
   "id": "28ce13fc-0c3a-49c5-8459-5a56c2ea17d1",
   "metadata": {},
   "outputs": [],
   "source": [
    "# base map\n",
    "Map = geemap.Map(center=(40, -100), zoom=4)\n",
    "Map"
   ]
  }
 ],
 "metadata": {
  "kernelspec": {
   "display_name": "Python 3 (ipykernel)",
   "language": "python",
   "name": "python3"
  },
  "language_info": {
   "codemirror_mode": {
    "name": "ipython",
    "version": 3
   },
   "file_extension": ".py",
   "mimetype": "text/x-python",
   "name": "python",
   "nbconvert_exporter": "python",
   "pygments_lexer": "ipython3",
   "version": "3.12.3"
  }
 },
 "nbformat": 4,
 "nbformat_minor": 5
}
