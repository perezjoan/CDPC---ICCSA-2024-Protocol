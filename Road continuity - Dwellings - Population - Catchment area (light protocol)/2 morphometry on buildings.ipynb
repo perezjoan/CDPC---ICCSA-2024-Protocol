{
 "cells": [
  {
   "cell_type": "code",
   "execution_count": 7,
   "id": "88da960b-80a3-4cb0-ac8e-0ee66232995a",
   "metadata": {},
   "outputs": [],
   "source": [
    "# 2 . Morphometry on buildings (using french BD TOPO)\n",
    "# Project website : http://emc2-dut.org/\n",
    "# Data sample : XXX\n",
    "# To run the script on other departments than the data sample in France : \n",
    "# Webpage : https://geoservices.ign.fr/bdtopo#telechargementgpkgreg\n",
    "# Author : Perez Joan*  (2024) \n",
    "# * UMR 7300 ESPACE-CNRS, Université Côte d'Azur, Nice, France.\n",
    "#   Contact: Joan.PEREZ@univ-cotedazur.fr \n",
    "\n",
    "# Note : this code computes a basic set of morphometric indicators F (number of floors),\n",
    "# A (surface area of the building footprint), P (perimeter), E (elongation), C (convexity), \n",
    "# FA (floor-area), ECA (elongation-convexity-area), EA (elongation-area) and SW (shared walls).  "
   ]
  },
  {
   "cell_type": "code",
   "execution_count": 8,
   "id": "981ddf8e-4e25-4830-8e5e-2489e8e71c83",
   "metadata": {},
   "outputs": [],
   "source": [
    "# Packages, local filepaths & parameters\n",
    "import pandas as pd\n",
    "import geopandas as gpd\n",
    "import numpy as np\n",
    "import momepy\n",
    "import libpysal\n",
    "import warnings\n",
    "warnings.simplefilter(action='ignore', category=FutureWarning)\n",
    "# Load data\n",
    "# Specify the location of subset\n",
    "gpkg = \"C:\\\\...\\\\.gpkg\" # Load either \"DPC_06.gpkg\" or \"DPC_59.gpkg\n",
    "building = gpd.read_file(gpkg, layer=\"building\")"
   ]
  },
  {
   "cell_type": "code",
   "execution_count": 9,
   "id": "1874a003-9b0b-4e12-a44e-1565315d912f",
   "metadata": {},
   "outputs": [
    {
     "name": "stdout",
     "output_type": "stream",
     "text": [
      "Number of remaining values with NA for height/floors :  1340\n"
     ]
    }
   ],
   "source": [
    "# 1  Fill missing values of number of floors/height based on attribute values (non mandatory)\n",
    "# Fill Missing Height\n",
    "building['hauteur'] = building['hauteur'].fillna(building['altitude_minimale_toit'] - building['altitude_minimale_sol'])\n",
    "# checks if the 'hauteur' column is NaN and if the 'nombre_d_etages' is not NaN.\n",
    "# If both conditions are met : multiplies the value of 'nombre_d_etages' by 3 and assigns it to 'hauteur'\n",
    "building['hauteur'] = building.apply(lambda row: row['nombre_d_etages'] * 3 if pd.isna(row['hauteur'])\n",
    "                                     and not pd.isna(row['nombre_d_etages']) else row['hauteur'], axis=1)\n",
    "# checks if the 'hauteur' column is NaN and if the 'nombre_d_etages' is not NaN.\n",
    "# If both conditions are met : multiplies the value of 'nombre_d_etages' by 3 and assigns it to 'hauteur'\n",
    "building['nombre_d_etages'] = building.apply(lambda row: round(row['hauteur'] / 3) if pd.isna(row['nombre_d_etages'])\n",
    "                                             and not pd.isna(row['hauteur']) else row['nombre_d_etages'], axis=1)\n",
    "print('Number of remaining values with NA for height/floors : ', building[['hauteur', 'nombre_d_etages']].isna().all(axis=1).sum())"
   ]
  },
  {
   "cell_type": "code",
   "execution_count": 10,
   "id": "71de4129-fda4-43f6-8a61-af88bdfc1aef",
   "metadata": {},
   "outputs": [],
   "source": [
    "# 2  Morphometric indicators : Surface, Compacity, Elongation, Floor-Area - FA, Product [1-E].C.S, Product [1-E].S and Shared walls\n",
    "\n",
    "# Number of floors\n",
    "building['FL'] = building['nombre_d_etages']\n",
    "\n",
    "# Surface\n",
    "building['A'] = building.geometry.area\n",
    "building.to_file(\"DPC_06.gpkg\", driver=\"GPKG\", layer = \"building_morpho\")\n",
    "# Calculating perimeter\n",
    "building['P'] = building.geometry.length\n",
    "\n",
    "# Calculating elongation\n",
    "building['E'] = momepy.Elongation(building).series\n",
    "\n",
    "# Convexity\n",
    "building['C'] = momepy.Convexity(building).series\n",
    "\n",
    "# Floor area\n",
    "building['FA'] = building['FL'] * building['A']\n",
    "\n",
    "# Product [1-E].C.S\n",
    "building['ECA'] = (1 - building['E']) * building['A'] * building['C']\n",
    "\n",
    "# [1-E].S\n",
    "building['EA'] = (1 - building['E']) * building['A']\n",
    "\n",
    "# Shared walls\n",
    "building[\"SW\"] = momepy.SharedWallsRatio(building).series\n",
    "\n",
    "# Results are available in a layer named \"building_morpho\" in the sample data\n",
    "# use dataframe.to_file to save new results"
   ]
  }
 ],
 "metadata": {
  "kernelspec": {
   "display_name": "Python 3 (ipykernel)",
   "language": "python",
   "name": "python3"
  },
  "language_info": {
   "codemirror_mode": {
    "name": "ipython",
    "version": 3
   },
   "file_extension": ".py",
   "mimetype": "text/x-python",
   "name": "python",
   "nbconvert_exporter": "python",
   "pygments_lexer": "ipython3",
   "version": "3.11.5"
  }
 },
 "nbformat": 4,
 "nbformat_minor": 5
}
