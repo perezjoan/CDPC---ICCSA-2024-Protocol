{
 "cells": [
  {
   "cell_type": "code",
   "execution_count": 14,
   "id": "88da960b-80a3-4cb0-ac8e-0ee66232995a",
   "metadata": {},
   "outputs": [],
   "source": [
    "# 2 . Morphometry on buildings using french BD TOPO\n",
    "# http://emc2-dut.org/\n",
    "# BD TOPO® décembre 2023 Tous Thèmes par département format GeoPackage projection légale\n",
    "# Webpage : https://geoservices.ign.fr/bdtopo#telechargementgpkgreg\n",
    "# Author : Perez Joan*  (2024) \n",
    "# * UMR 7300 ESPACE-CNRS, Université Côte d'Azur, Nice, France.\n",
    "#   Contact: Joan.PEREZ@univ-cotedazur.fr "
   ]
  },
  {
   "cell_type": "code",
   "execution_count": 11,
   "id": "981ddf8e-4e25-4830-8e5e-2489e8e71c83",
   "metadata": {},
   "outputs": [],
   "source": [
    "import pandas as pd\n",
    "import geopandas as gpd\n",
    "import numpy as np\n",
    "import momepy\n",
    "import libpysal\n",
    "import warnings\n",
    "warnings.simplefilter(action='ignore', category=FutureWarning)\n",
    "# Load data\n",
    "# Specify the location of subset\n",
    "gpkg = \"C:\\\\Users\\\\jperez\\\\Documents\\\\Current 1\\\\emc2\\\\ICCSA_2024 data and codes\\\\DPC_59.gpkg\"\n",
    "building = gpd.read_file(gpkg, layer=\"building\")"
   ]
  },
  {
   "cell_type": "code",
   "execution_count": 12,
   "id": "1874a003-9b0b-4e12-a44e-1565315d912f",
   "metadata": {},
   "outputs": [
    {
     "name": "stdout",
     "output_type": "stream",
     "text": [
      "Number of remaining values with NA for height/floors :  1340\n"
     ]
    }
   ],
   "source": [
    "# 1  Fill missing values of number of floors/height based on attribute values (non mandatory)\n",
    "# Fill Missing Height\n",
    "building['hauteur'] = building['hauteur'].fillna(building['altitude_minimale_toit'] - building['altitude_minimale_sol'])\n",
    "# checks if the 'hauteur' column is NaN and if the 'nombre_d_etages' is not NaN.\n",
    "# If both conditions are met : multiplies the value of 'nombre_d_etages' by 3 and assigns it to 'hauteur'\n",
    "building['hauteur'] = building.apply(lambda row: row['nombre_d_etages'] * 3 if pd.isna(row['hauteur'])\n",
    "                                     and not pd.isna(row['nombre_d_etages']) else row['hauteur'], axis=1)\n",
    "# checks if the 'hauteur' column is NaN and if the 'nombre_d_etages' is not NaN.\n",
    "# If both conditions are met : multiplies the value of 'nombre_d_etages' by 3 and assigns it to 'hauteur'\n",
    "building['nombre_d_etages'] = building.apply(lambda row: round(row['hauteur'] / 3) if pd.isna(row['nombre_d_etages'])\n",
    "                                             and not pd.isna(row['hauteur']) else row['nombre_d_etages'], axis=1)\n",
    "print('Number of remaining values with NA for height/floors : ', building[['hauteur', 'nombre_d_etages']].isna().all(axis=1).sum())"
   ]
  },
  {
   "cell_type": "code",
   "execution_count": 13,
   "id": "71de4129-fda4-43f6-8a61-af88bdfc1aef",
   "metadata": {},
   "outputs": [],
   "source": [
    "# 2  Basic new indicators : Surface, Compacity, Elongation, Product [1-E].C.S, Product [1-E].S\n",
    "\n",
    "# Surface\n",
    "building['area'] = building.geometry.area\n",
    "\n",
    "# Calculating perimeter\n",
    "building['perimeter'] = building.geometry.length\n",
    "\n",
    "# Calculating elongation\n",
    "building['elongation'] = momepy.Elongation(building).series\n",
    "\n",
    "# Convexity\n",
    "building['convexity'] = momepy.Convexity(building).series\n",
    "\n",
    "# Floor area\n",
    "building['FA'] = building['nombre_d_etages'] * building['area']\n",
    "\n",
    "# Product [1-E].C.S\n",
    "building['ECS'] = (1 - building['elongation']) * building['area'] * building['convexity']\n",
    "\n",
    "# [1-E].S\n",
    "building['ES'] = (1 - building['elongation']) * building['area']\n",
    "\n",
    "# Shared walls\n",
    "building[\"SW\"] = momepy.SharedWallsRatio(building).series"
   ]
  },
  {
   "cell_type": "code",
   "execution_count": 14,
   "id": "a75b976f-a197-4cf4-a327-4ad751007849",
   "metadata": {},
   "outputs": [],
   "source": [
    "building.to_file(gpkg, layer=\"building_morpho\", driver=\"GPKG\")"
   ]
  }
 ],
 "metadata": {
  "kernelspec": {
   "display_name": "Python 3 (ipykernel)",
   "language": "python",
   "name": "python3"
  },
  "language_info": {
   "codemirror_mode": {
    "name": "ipython",
    "version": 3
   },
   "file_extension": ".py",
   "mimetype": "text/x-python",
   "name": "python",
   "nbconvert_exporter": "python",
   "pygments_lexer": "ipython3",
   "version": "3.11.5"
  }
 },
 "nbformat": 4,
 "nbformat_minor": 5
}
